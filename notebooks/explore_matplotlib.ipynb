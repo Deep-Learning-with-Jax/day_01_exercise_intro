{
 "cells": [
  {
   "cell_type": "code",
   "execution_count": 1,
   "metadata": {},
   "outputs": [],
   "source": [
    "import matplotlib.pyplot as plt\n",
    "import numpy as np\n",
    "import sys\n",
    "\n",
    "sys.path.append(\"../\")\n",
    "from src.my_code import average"
   ]
  },
  {
   "cell_type": "code",
   "execution_count": null,
   "metadata": {},
   "outputs": [],
   "source": [
    "x = np.linspace(0, 1, 100)\n",
    "x2 = np.linspace(0, 1, 50)\n",
    "signal = np.random.uniform(0, 1, 100)\n",
    "\n",
    "# TODO: Compute the result and visualize the result using plt.plot and plt.show .\n",
    "# signal_avg = average(signal)\n"
   ]
  }
 ],
 "metadata": {
  "kernelspec": {
   "display_name": "Python 3.9.7 ('base')",
   "language": "python",
   "name": "python3"
  },
  "language_info": {
   "codemirror_mode": {
    "name": "ipython",
    "version": 3
   },
   "file_extension": ".py",
   "mimetype": "text/x-python",
   "name": "python",
   "nbconvert_exporter": "python",
   "pygments_lexer": "ipython3",
   "version": "3.9.7"
  },
  "orig_nbformat": 4,
  "vscode": {
   "interpreter": {
    "hash": "688d28a40b8b7c103e7b2de8720744737284a9ed23a7bc88221ead2ebe53e017"
   }
  }
 },
 "nbformat": 4,
 "nbformat_minor": 2
}
